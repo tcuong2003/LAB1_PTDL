{
 "cells": [
  {
   "cell_type": "markdown",
   "id": "16a6e2af",
   "metadata": {},
   "source": [
    "# 0. Import thư viện"
   ]
  },
  {
   "cell_type": "code",
   "execution_count": 4,
   "id": "ae8d0fa4",
   "metadata": {},
   "outputs": [],
   "source": [
    "import pandas as pd\n",
    "from autoviz.AutoViz_Class import AutoViz_Class"
   ]
  },
  {
   "cell_type": "markdown",
   "id": "8ec317d0",
   "metadata": {},
   "source": [
    "# 1. Đọc dữ liệu"
   ]
  },
  {
   "cell_type": "code",
   "execution_count": 5,
   "id": "9324a6b4",
   "metadata": {},
   "outputs": [],
   "source": [
    "# Đọc dữ liệu Marketing Campaign\n",
    "marketing_data = pd.read_csv(\"data/marketing_campaign.csv\")\n",
    "\n",
    "# Tạo đối tượng AutoViz\n",
    "AV = AutoViz_Class()"
   ]
  },
  {
   "cell_type": "markdown",
   "id": "601a264c",
   "metadata": {},
   "source": [
    "# 2. Tạo báo cáo EDA tự động"
   ]
  },
  {
   "cell_type": "code",
   "execution_count": 7,
   "id": "ca0dabef",
   "metadata": {},
   "outputs": [
    {
     "name": "stdout",
     "output_type": "stream",
     "text": [
      "Shape of your Data Set loaded: (2240, 1)\n",
      "#######################################################################################\n",
      "######################## C L A S S I F Y I N G  V A R I A B L E S  ####################\n",
      "#######################################################################################\n",
      "Classifying variables in data set...\n",
      "  Printing up to 30 columns (max) in each category:\n",
      "    Numeric Columns : []\n",
      "    Integer-Categorical Columns: []\n",
      "    String-Categorical Columns: []\n",
      "    Factor-Categorical Columns: []\n",
      "    String-Boolean Columns: []\n",
      "    Numeric-Boolean Columns: []\n",
      "    Discrete String Columns: []\n",
      "    NLP text Columns: ['ID\\tYear_Birth\\tEducation\\tMarital_Status\\tIncome\\tKidhome\\tTeenhome\\tDt_Customer\\tRecency\\tMntWines\\tMntFruits\\tMntMeatProducts\\tMntFishProducts\\tMntSweetProducts\\tMntGoldProds\\tNumDealsPurchases\\tNumWebPurchases\\tNumCatalogPurchases\\tNumStorePurchases\\tNumWebVisitsMonth\\tAcceptedCmp3\\tAcceptedCmp4\\tAcceptedCmp5\\tAcceptedCmp1\\tAcceptedCmp2\\tComplain\\tZ_CostContact\\tZ_Revenue\\tResponse']\n",
      "    Date Time Columns: []\n",
      "    ID Columns: []\n",
      "    Columns that will not be considered in modeling: []\n",
      "    1 Predictors classified...\n",
      "        No variables removed since no ID or low-information variables found in data set\n",
      "   Columns to delete:\n",
      "'   []'\n",
      "   Boolean variables %s \n",
      "'   []'\n",
      "   Categorical variables %s \n",
      "'   []'\n",
      "   Continuous variables %s \n",
      "'   []'\n",
      "   Discrete string variables %s \n",
      "('   '\n",
      " \"['ID\\\\tYear_Birth\\\\tEducation\\\\tMarital_Status\\\\tIncome\\\\tKidhome\\\\tTeenhome\\\\tDt_Customer\\\\tRecency\\\\tMntWines\\\\tMntFruits\\\\tMntMeatProducts\\\\tMntFishProducts\\\\tMntSweetProducts\\\\tMntGoldProds\\\\tNumDealsPurchases\\\\tNumWebPurchases\\\\tNumCatalogPurchases\\\\tNumStorePurchases\\\\tNumWebVisitsMonth\\\\tAcceptedCmp3\\\\tAcceptedCmp4\\\\tAcceptedCmp5\\\\tAcceptedCmp1\\\\tAcceptedCmp2\\\\tComplain\\\\tZ_CostContact\\\\tZ_Revenue\\\\tResponse']\")\n",
      "   Date and time variables %s \n",
      "'   []'\n",
      "   ID variables %s \n",
      "'   []'\n",
      "   Target variable %s \n",
      "'   '\n",
      "To fix these data quality issues in the dataset, import FixDQ from autoviz...\n",
      "    All variables classified into correct types.\n"
     ]
    },
    {
     "data": {
      "text/html": [
       "<style type=\"text/css\">\n",
       "#T_a6480_row0_col0, #T_a6480_row0_col3, #T_a6480_row0_col4, #T_a6480_row0_col5 {\n",
       "  font-family: Segoe UI;\n",
       "}\n",
       "#T_a6480_row0_col1, #T_a6480_row0_col2 {\n",
       "  background-color: #fff5f0;\n",
       "  color: #000000;\n",
       "  font-family: Segoe UI;\n",
       "}\n",
       "</style>\n",
       "<table id=\"T_a6480\">\n",
       "  <thead>\n",
       "    <tr>\n",
       "      <th class=\"blank level0\" >&nbsp;</th>\n",
       "      <th id=\"T_a6480_level0_col0\" class=\"col_heading level0 col0\" >Data Type</th>\n",
       "      <th id=\"T_a6480_level0_col1\" class=\"col_heading level0 col1\" >Missing Values%</th>\n",
       "      <th id=\"T_a6480_level0_col2\" class=\"col_heading level0 col2\" >Unique Values%</th>\n",
       "      <th id=\"T_a6480_level0_col3\" class=\"col_heading level0 col3\" >Minimum Value</th>\n",
       "      <th id=\"T_a6480_level0_col4\" class=\"col_heading level0 col4\" >Maximum Value</th>\n",
       "      <th id=\"T_a6480_level0_col5\" class=\"col_heading level0 col5\" >DQ Issue</th>\n",
       "    </tr>\n",
       "  </thead>\n",
       "  <tbody>\n",
       "    <tr>\n",
       "      <th id=\"T_a6480_level0_row0\" class=\"row_heading level0 row0\" >ID\tYear_Birth\tEducation\tMarital_Status\tIncome\tKidhome\tTeenhome\tDt_Customer\tRecency\tMntWines\tMntFruits\tMntMeatProducts\tMntFishProducts\tMntSweetProducts\tMntGoldProds\tNumDealsPurchases\tNumWebPurchases\tNumCatalogPurchases\tNumStorePurchases\tNumWebVisitsMonth\tAcceptedCmp3\tAcceptedCmp4\tAcceptedCmp5\tAcceptedCmp1\tAcceptedCmp2\tComplain\tZ_CostContact\tZ_Revenue\tResponse</th>\n",
       "      <td id=\"T_a6480_row0_col0\" class=\"data row0 col0\" >object</td>\n",
       "      <td id=\"T_a6480_row0_col1\" class=\"data row0 col1\" >0.000000</td>\n",
       "      <td id=\"T_a6480_row0_col2\" class=\"data row0 col2\" >100</td>\n",
       "      <td id=\"T_a6480_row0_col3\" class=\"data row0 col3\" ></td>\n",
       "      <td id=\"T_a6480_row0_col4\" class=\"data row0 col4\" ></td>\n",
       "      <td id=\"T_a6480_row0_col5\" class=\"data row0 col5\" >No issue</td>\n",
       "    </tr>\n",
       "  </tbody>\n",
       "</table>\n"
      ],
      "text/plain": [
       "<pandas.io.formats.style.Styler at 0x1398ea210>"
      ]
     },
     "metadata": {},
     "output_type": "display_data"
    },
    {
     "name": "stdout",
     "output_type": "stream",
     "text": [
      "No categorical or boolean vars in data set. Hence no pivot plots...\n"
     ]
    },
    {
     "name": "stderr",
     "output_type": "stream",
     "text": [
      "[nltk_data] Downloading collection 'popular'\n",
      "[nltk_data]    | \n",
      "[nltk_data]    | Downloading package cmudict to\n",
      "[nltk_data]    |     /Users/mac/nltk_data...\n",
      "[nltk_data]    |   Package cmudict is already up-to-date!\n",
      "[nltk_data]    | Downloading package gazetteers to\n",
      "[nltk_data]    |     /Users/mac/nltk_data...\n",
      "[nltk_data]    |   Package gazetteers is already up-to-date!\n",
      "[nltk_data]    | Downloading package genesis to\n",
      "[nltk_data]    |     /Users/mac/nltk_data...\n",
      "[nltk_data]    |   Package genesis is already up-to-date!\n",
      "[nltk_data]    | Downloading package gutenberg to\n",
      "[nltk_data]    |     /Users/mac/nltk_data...\n",
      "[nltk_data]    |   Package gutenberg is already up-to-date!\n",
      "[nltk_data]    | Downloading package inaugural to\n",
      "[nltk_data]    |     /Users/mac/nltk_data...\n",
      "[nltk_data]    |   Package inaugural is already up-to-date!\n",
      "[nltk_data]    | Downloading package movie_reviews to\n",
      "[nltk_data]    |     /Users/mac/nltk_data...\n",
      "[nltk_data]    |   Package movie_reviews is already up-to-date!\n",
      "[nltk_data]    | Downloading package names to /Users/mac/nltk_data...\n",
      "[nltk_data]    |   Package names is already up-to-date!\n",
      "[nltk_data]    | Downloading package shakespeare to\n",
      "[nltk_data]    |     /Users/mac/nltk_data...\n",
      "[nltk_data]    |   Package shakespeare is already up-to-date!\n",
      "[nltk_data]    | Downloading package stopwords to\n",
      "[nltk_data]    |     /Users/mac/nltk_data...\n",
      "[nltk_data]    |   Package stopwords is already up-to-date!\n",
      "[nltk_data]    | Downloading package treebank to\n",
      "[nltk_data]    |     /Users/mac/nltk_data...\n",
      "[nltk_data]    |   Package treebank is already up-to-date!\n",
      "[nltk_data]    | Downloading package twitter_samples to\n",
      "[nltk_data]    |     /Users/mac/nltk_data...\n",
      "[nltk_data]    |   Package twitter_samples is already up-to-date!\n",
      "[nltk_data]    | Downloading package omw to /Users/mac/nltk_data...\n",
      "[nltk_data]    |   Package omw is already up-to-date!\n",
      "[nltk_data]    | Downloading package omw-1.4 to\n",
      "[nltk_data]    |     /Users/mac/nltk_data...\n",
      "[nltk_data]    |   Package omw-1.4 is already up-to-date!\n",
      "[nltk_data]    | Downloading package wordnet to\n",
      "[nltk_data]    |     /Users/mac/nltk_data...\n",
      "[nltk_data]    |   Package wordnet is already up-to-date!\n",
      "[nltk_data]    | Downloading package wordnet2021 to\n",
      "[nltk_data]    |     /Users/mac/nltk_data...\n",
      "[nltk_data]    |   Package wordnet2021 is already up-to-date!\n",
      "[nltk_data]    | Downloading package wordnet31 to\n",
      "[nltk_data]    |     /Users/mac/nltk_data...\n",
      "[nltk_data]    |   Package wordnet31 is already up-to-date!\n",
      "[nltk_data]    | Downloading package wordnet_ic to\n",
      "[nltk_data]    |     /Users/mac/nltk_data...\n",
      "[nltk_data]    |   Package wordnet_ic is already up-to-date!\n",
      "[nltk_data]    | Downloading package words to /Users/mac/nltk_data...\n",
      "[nltk_data]    |   Package words is already up-to-date!\n",
      "[nltk_data]    | Downloading package maxent_ne_chunker to\n",
      "[nltk_data]    |     /Users/mac/nltk_data...\n",
      "[nltk_data]    |   Package maxent_ne_chunker is already up-to-date!\n",
      "[nltk_data]    | Downloading package punkt to /Users/mac/nltk_data...\n"
     ]
    },
    {
     "name": "stdout",
     "output_type": "stream",
     "text": [
      "Could not draw wordcloud plot for ID\tYear_Birth\tEducation\tMarital_Status\tIncome\tKidhome\tTeenhome\tDt_Customer\tRecency\tMntWines\tMntFruits\tMntMeatProducts\tMntFishProducts\tMntSweetProducts\tMntGoldProds\tNumDealsPurchases\tNumWebPurchases\tNumCatalogPurchases\tNumStorePurchases\tNumWebVisitsMonth\tAcceptedCmp3\tAcceptedCmp4\tAcceptedCmp5\tAcceptedCmp1\tAcceptedCmp2\tComplain\tZ_CostContact\tZ_Revenue\tResponse. \n",
      "Looks like you are missing some required data for this feature.\n",
      "\n",
      "To download the necessary data, simply run\n",
      "\n",
      "    python -m textblob.download_corpora\n",
      "\n",
      "or use the NLTK downloader to download the missing data: http://nltk.org/data.html\n",
      "If this doesn't fix the problem, file an issue at https://github.com/sloria/TextBlob/issues.\n",
      "\n",
      "All Plots are saved in ./AutoViz_Plots/AutoViz\n",
      "Time to run AutoViz = 1 seconds \n"
     ]
    },
    {
     "name": "stderr",
     "output_type": "stream",
     "text": [
      "[nltk_data]    |   Package punkt is already up-to-date!\n",
      "[nltk_data]    | Downloading package snowball_data to\n",
      "[nltk_data]    |     /Users/mac/nltk_data...\n",
      "[nltk_data]    |   Package snowball_data is already up-to-date!\n",
      "[nltk_data]    | Downloading package averaged_perceptron_tagger to\n",
      "[nltk_data]    |     /Users/mac/nltk_data...\n",
      "[nltk_data]    |   Package averaged_perceptron_tagger is already up-\n",
      "[nltk_data]    |       to-date!\n",
      "[nltk_data]    | \n",
      "[nltk_data]  Done downloading collection popular\n"
     ]
    }
   ],
   "source": [
    "# Phân tích toàn bộ dữ liệu và vẽ biểu đồ tự động\n",
    "report = AV.AutoViz(\n",
    "    filename=\"\",             # không cần file path vì ta đã có DataFrame\n",
    "    sep=\",\",\n",
    "    depVar=\"\",               # không chỉ định biến mục tiêu\n",
    "    dfte=marketing_data,     # truyền DataFrame vào\n",
    "    header=0,\n",
    "    verbose=2,               # mức độ chi tiết cao\n",
    "    lowess=False\n",
    ")"
   ]
  }
 ],
 "metadata": {
  "kernelspec": {
   "display_name": "base",
   "language": "python",
   "name": "python3"
  },
  "language_info": {
   "codemirror_mode": {
    "name": "ipython",
    "version": 3
   },
   "file_extension": ".py",
   "mimetype": "text/x-python",
   "name": "python",
   "nbconvert_exporter": "python",
   "pygments_lexer": "ipython3",
   "version": "3.13.5"
  }
 },
 "nbformat": 4,
 "nbformat_minor": 5
}
