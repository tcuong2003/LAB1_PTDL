{
 "cells": [
  {
   "cell_type": "markdown",
   "id": "f473e32e",
   "metadata": {},
   "source": [
    "# 0. Import thư viện"
   ]
  },
  {
   "cell_type": "code",
   "execution_count": 10,
   "id": "85234426",
   "metadata": {},
   "outputs": [],
   "source": [
    "import pandas as pd\n",
    "import dtale"
   ]
  },
  {
   "cell_type": "markdown",
   "id": "989a87a5",
   "metadata": {},
   "source": [
    "# 1. Đọc dữ liệu"
   ]
  },
  {
   "cell_type": "code",
   "execution_count": 11,
   "id": "f7b8d84e",
   "metadata": {},
   "outputs": [],
   "source": [
    "# Đọc dữ liệu từ file CSV\n",
    "marketing_data = pd.read_csv(\"/Users/mac/Desktop/PTDL_GK/LAB1_PTDL/phan_tich_don_bien_hai_bien/bai_toan_3_EDA/nhiem_vu_2_marketing_campaign/data/marketing_campaign.csv\")\n",
    "\n",
    "# Gọi D-Tale để mở giao diện trực quan trong trình duyệt\n",
    "dtale.show(marketing_data).open_browser()"
   ]
  }
 ],
 "metadata": {
  "kernelspec": {
   "display_name": "base",
   "language": "python",
   "name": "python3"
  },
  "language_info": {
   "codemirror_mode": {
    "name": "ipython",
    "version": 3
   },
   "file_extension": ".py",
   "mimetype": "text/x-python",
   "name": "python",
   "nbconvert_exporter": "python",
   "pygments_lexer": "ipython3",
   "version": "3.13.5"
  }
 },
 "nbformat": 4,
 "nbformat_minor": 5
}
