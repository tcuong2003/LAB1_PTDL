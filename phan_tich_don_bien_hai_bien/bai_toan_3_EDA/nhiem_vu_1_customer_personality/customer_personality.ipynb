{
 "cells": [
  {
   "cell_type": "markdown",
   "id": "6dd03d08",
   "metadata": {},
   "source": [
    "# 0. Import thư viện"
   ]
  },
  {
   "cell_type": "code",
   "execution_count": 4,
   "id": "d0a35e3d",
   "metadata": {},
   "outputs": [],
   "source": [
    "import pandas as pd\n",
    "from ydata_profiling import ProfileReport"
   ]
  },
  {
   "cell_type": "markdown",
   "id": "50c736d3",
   "metadata": {},
   "source": [
    "# 1. Đọc dữ liệu "
   ]
  },
  {
   "cell_type": "code",
   "execution_count": 5,
   "id": "bb302a13",
   "metadata": {},
   "outputs": [
    {
     "data": {
      "text/html": [
       "<div>\n",
       "<style scoped>\n",
       "    .dataframe tbody tr th:only-of-type {\n",
       "        vertical-align: middle;\n",
       "    }\n",
       "\n",
       "    .dataframe tbody tr th {\n",
       "        vertical-align: top;\n",
       "    }\n",
       "\n",
       "    .dataframe thead th {\n",
       "        text-align: right;\n",
       "    }\n",
       "</style>\n",
       "<table border=\"1\" class=\"dataframe\">\n",
       "  <thead>\n",
       "    <tr style=\"text-align: right;\">\n",
       "      <th></th>\n",
       "      <th>ID\\tYear_Birth\\tEducation\\tMarital_Status\\tIncome\\tKidhome\\tTeenhome\\tDt_Customer\\tRecency\\tMntWines\\tMntFruits\\tMntMeatProducts\\tMntFishProducts\\tMntSweetProducts\\tMntGoldProds\\tNumDealsPurchases\\tNumWebPurchases\\tNumCatalogPurchases\\tNumStorePurchases\\tNumWebVisitsMonth\\tAcceptedCmp3\\tAcceptedCmp4\\tAcceptedCmp5\\tAcceptedCmp1\\tAcceptedCmp2\\tComplain\\tZ_CostContact\\tZ_Revenue\\tResponse</th>\n",
       "    </tr>\n",
       "  </thead>\n",
       "  <tbody>\n",
       "    <tr>\n",
       "      <th>2230</th>\n",
       "      <td>7004\\t1984\\tGraduation\\tSingle\\t11012\\t1\\t0\\t1...</td>\n",
       "    </tr>\n",
       "    <tr>\n",
       "      <th>2231</th>\n",
       "      <td>9817\\t1970\\tMaster\\tSingle\\t44802\\t0\\t0\\t21-08...</td>\n",
       "    </tr>\n",
       "    <tr>\n",
       "      <th>2232</th>\n",
       "      <td>8080\\t1986\\tGraduation\\tSingle\\t26816\\t0\\t0\\t1...</td>\n",
       "    </tr>\n",
       "    <tr>\n",
       "      <th>2233</th>\n",
       "      <td>9432\\t1977\\tGraduation\\tTogether\\t666666\\t1\\t0...</td>\n",
       "    </tr>\n",
       "    <tr>\n",
       "      <th>2234</th>\n",
       "      <td>8372\\t1974\\tGraduation\\tMarried\\t34421\\t1\\t0\\t...</td>\n",
       "    </tr>\n",
       "    <tr>\n",
       "      <th>2235</th>\n",
       "      <td>10870\\t1967\\tGraduation\\tMarried\\t61223\\t0\\t1\\...</td>\n",
       "    </tr>\n",
       "    <tr>\n",
       "      <th>2236</th>\n",
       "      <td>4001\\t1946\\tPhD\\tTogether\\t64014\\t2\\t1\\t10-06-...</td>\n",
       "    </tr>\n",
       "    <tr>\n",
       "      <th>2237</th>\n",
       "      <td>7270\\t1981\\tGraduation\\tDivorced\\t56981\\t0\\t0\\...</td>\n",
       "    </tr>\n",
       "    <tr>\n",
       "      <th>2238</th>\n",
       "      <td>8235\\t1956\\tMaster\\tTogether\\t69245\\t0\\t1\\t24-...</td>\n",
       "    </tr>\n",
       "    <tr>\n",
       "      <th>2239</th>\n",
       "      <td>9405\\t1954\\tPhD\\tMarried\\t52869\\t1\\t1\\t15-10-2...</td>\n",
       "    </tr>\n",
       "  </tbody>\n",
       "</table>\n",
       "</div>"
      ],
      "text/plain": [
       "     ID\\tYear_Birth\\tEducation\\tMarital_Status\\tIncome\\tKidhome\\tTeenhome\\tDt_Customer\\tRecency\\tMntWines\\tMntFruits\\tMntMeatProducts\\tMntFishProducts\\tMntSweetProducts\\tMntGoldProds\\tNumDealsPurchases\\tNumWebPurchases\\tNumCatalogPurchases\\tNumStorePurchases\\tNumWebVisitsMonth\\tAcceptedCmp3\\tAcceptedCmp4\\tAcceptedCmp5\\tAcceptedCmp1\\tAcceptedCmp2\\tComplain\\tZ_CostContact\\tZ_Revenue\\tResponse\n",
       "2230  7004\\t1984\\tGraduation\\tSingle\\t11012\\t1\\t0\\t1...                                                                                                                                                                                                                                                                                                                                                  \n",
       "2231  9817\\t1970\\tMaster\\tSingle\\t44802\\t0\\t0\\t21-08...                                                                                                                                                                                                                                                                                                                                                  \n",
       "2232  8080\\t1986\\tGraduation\\tSingle\\t26816\\t0\\t0\\t1...                                                                                                                                                                                                                                                                                                                                                  \n",
       "2233  9432\\t1977\\tGraduation\\tTogether\\t666666\\t1\\t0...                                                                                                                                                                                                                                                                                                                                                  \n",
       "2234  8372\\t1974\\tGraduation\\tMarried\\t34421\\t1\\t0\\t...                                                                                                                                                                                                                                                                                                                                                  \n",
       "2235  10870\\t1967\\tGraduation\\tMarried\\t61223\\t0\\t1\\...                                                                                                                                                                                                                                                                                                                                                  \n",
       "2236  4001\\t1946\\tPhD\\tTogether\\t64014\\t2\\t1\\t10-06-...                                                                                                                                                                                                                                                                                                                                                  \n",
       "2237  7270\\t1981\\tGraduation\\tDivorced\\t56981\\t0\\t0\\...                                                                                                                                                                                                                                                                                                                                                  \n",
       "2238  8235\\t1956\\tMaster\\tTogether\\t69245\\t0\\t1\\t24-...                                                                                                                                                                                                                                                                                                                                                  \n",
       "2239  9405\\t1954\\tPhD\\tMarried\\t52869\\t1\\t1\\t15-10-2...                                                                                                                                                                                                                                                                                                                                                  "
      ]
     },
     "execution_count": 5,
     "metadata": {},
     "output_type": "execute_result"
    }
   ],
   "source": [
    "# Đọc dữ liệu\n",
    "marketing_data = pd.read_csv(\"/Users/mac/Desktop/PTDL_GK/LAB1_PTDL/phan_tich_don_bien_hai_bien/bai_toan_3_EDA/nhiem_vu_1_customer_personality/data/marketing_campaign.csv\")\n",
    "\n",
    "# Hiển thị vài dòng đầu tiên\n",
    "marketing_data.head(20)   # Hiển thị 20 dòng đầu\n",
    "marketing_data.tail(10)   # Hiển thị 10 dòng cuối"
   ]
  },
  {
   "cell_type": "markdown",
   "id": "ce94a830",
   "metadata": {},
   "source": [
    "# 2. Tạo báo cáo EDA tự động"
   ]
  },
  {
   "cell_type": "code",
   "execution_count": 9,
   "id": "131a47f5",
   "metadata": {},
   "outputs": [
    {
     "data": {
      "application/vnd.jupyter.widget-view+json": {
       "model_id": "e1502c70cd0b4c3cbb74a9b46227aeb5",
       "version_major": 2,
       "version_minor": 0
      },
      "text/plain": [
       "Summarize dataset:   0%|          | 0/5 [00:00<?, ?it/s]"
      ]
     },
     "metadata": {},
     "output_type": "display_data"
    },
    {
     "name": "stderr",
     "output_type": "stream",
     "text": [
      "100%|██████████| 1/1 [00:00<00:00,  4.32it/s]\n",
      "/opt/anaconda3/lib/python3.13/site-packages/ydata_profiling/visualisation/utils.py:73: UserWarning: Glyph 9 (\t) missing from font(s) Arial.\n",
      "  plt.savefig(\n",
      "/opt/anaconda3/lib/python3.13/site-packages/ydata_profiling/visualisation/utils.py:73: UserWarning: Glyph 9 (\t) missing from font(s) Arial.\n",
      "  plt.savefig(\n"
     ]
    },
    {
     "data": {
      "application/vnd.jupyter.widget-view+json": {
       "model_id": "e12903c2e2c542ea813fbfb4e35cae82",
       "version_major": 2,
       "version_minor": 0
      },
      "text/plain": [
       "Generate report structure:   0%|          | 0/1 [00:00<?, ?it/s]"
      ]
     },
     "metadata": {},
     "output_type": "display_data"
    },
    {
     "data": {
      "application/vnd.jupyter.widget-view+json": {
       "model_id": "6c946ac01745425484f5baf6b943a840",
       "version_major": 2,
       "version_minor": 0
      },
      "text/plain": [
       "Render HTML:   0%|          | 0/1 [00:00<?, ?it/s]"
      ]
     },
     "metadata": {},
     "output_type": "display_data"
    },
    {
     "data": {
      "application/vnd.jupyter.widget-view+json": {
       "model_id": "9b68150362d94790b2ab19c9fc4df2d7",
       "version_major": 2,
       "version_minor": 0
      },
      "text/plain": [
       "Export report to file:   0%|          | 0/1 [00:00<?, ?it/s]"
      ]
     },
     "metadata": {},
     "output_type": "display_data"
    }
   ],
   "source": [
    "# Tạo báo cáo tự động bằng ydata_profiling\n",
    "profile = ProfileReport(marketing_data)\n",
    "\n",
    "# Xuất kết quả ra file HTML\n",
    "profile.to_file(\"/Users/mac/Desktop/PTDL_GK/LAB1_PTDL/phan_tich_don_bien_hai_bien/bai_toan_3_EDA/nhiem_vu_1_customer_personality/html/profile_output.html\")"
   ]
  },
  {
   "cell_type": "markdown",
   "id": "0df09e66",
   "metadata": {},
   "source": [
    "# KẾT THÚC"
   ]
  }
 ],
 "metadata": {
  "kernelspec": {
   "display_name": "base",
   "language": "python",
   "name": "python3"
  },
  "language_info": {
   "codemirror_mode": {
    "name": "ipython",
    "version": 3
   },
   "file_extension": ".py",
   "mimetype": "text/x-python",
   "name": "python",
   "nbconvert_exporter": "python",
   "pygments_lexer": "ipython3",
   "version": "3.13.5"
  }
 },
 "nbformat": 4,
 "nbformat_minor": 5
}
