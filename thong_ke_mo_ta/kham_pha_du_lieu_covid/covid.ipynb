{
 "cells": [
  {
   "cell_type": "markdown",
   "id": "743e4517",
   "metadata": {},
   "source": [
    "Nhiệm vụ 1: Khám phá dữ liệu COVID"
   ]
  },
  {
   "cell_type": "markdown",
   "id": "89b91263",
   "metadata": {},
   "source": [
    "1. Import thư viện"
   ]
  },
  {
   "cell_type": "code",
   "execution_count": 87,
   "id": "9f8636c4",
   "metadata": {},
   "outputs": [],
   "source": [
    "import numpy as np\n",
    "import pandas as pd\n",
    "from scipy import stats\n"
   ]
  },
  {
   "cell_type": "markdown",
   "id": "38366e22",
   "metadata": {},
   "source": [
    "2. Đọc dữ liệu và chọn cột cần phân tích"
   ]
  },
  {
   "cell_type": "code",
   "execution_count": null,
   "id": "3c94b10f",
   "metadata": {},
   "outputs": [],
   "source": [
    "covid_data = pd.read_csv(\"C:/Users/Dell/OneDrive/Máy tính/ptdllab01/LAB1_PTDL/thong_ke_mo_ta/kham_pha_du_lieu_covid/data/covid-data.csv\")\n",
    "\n",
    "covid_data = covid_data[['country','date','new_cases','total_cases', 'total_deaths']]"
   ]
  },
  {
   "cell_type": "markdown",
   "id": "29fe6bfa",
   "metadata": {},
   "source": [
    "Loại bỏ giá trị NaN trong cột new_cases"
   ]
  },
  {
   "cell_type": "code",
   "execution_count": 106,
   "id": "270ea1aa",
   "metadata": {},
   "outputs": [],
   "source": [
    "covid_data = covid_data.dropna(subset=['new_cases'])"
   ]
  },
  {
   "cell_type": "markdown",
   "id": "4edd6645",
   "metadata": {},
   "source": [
    "3. Kiểm tra thông tin cơ bản"
   ]
  },
  {
   "cell_type": "code",
   "execution_count": 108,
   "id": "964975d1",
   "metadata": {},
   "outputs": [
    {
     "name": "stdout",
     "output_type": "stream",
     "text": [
      "       country        date  new_cases  total_cases  total_deaths\n",
      "0  Afghanistan  2020-01-04        0.0            0             0\n",
      "1  Afghanistan  2020-01-05        0.0            0             0\n",
      "2  Afghanistan  2020-01-06        0.0            0             0\n",
      "3  Afghanistan  2020-01-07        0.0            0             0\n",
      "4  Afghanistan  2020-01-08        0.0            0             0\n"
     ]
    }
   ],
   "source": [
    "covid_data.head(5)\n",
    "covid_data.dtypes\n",
    "covid_data.shape\n",
    "print(covid_data.head())\n",
    "\n"
   ]
  },
  {
   "cell_type": "markdown",
   "id": "8553d4f6",
   "metadata": {},
   "source": [
    "Lấy giá trị trung bình của dữ liệu "
   ]
  },
  {
   "cell_type": "code",
   "execution_count": 91,
   "id": "b06d0365",
   "metadata": {},
   "outputs": [
    {
     "name": "stdout",
     "output_type": "stream",
     "text": [
      "10590.082678546372\n"
     ]
    }
   ],
   "source": [
    "data_mean = np.mean(covid_data[\"new_cases\"])\n",
    "print(data_mean)"
   ]
  },
  {
   "cell_type": "markdown",
   "id": "172455b9",
   "metadata": {},
   "source": [
    "Lấy trung vị của dữ liệu"
   ]
  },
  {
   "cell_type": "code",
   "execution_count": 92,
   "id": "907e9355",
   "metadata": {},
   "outputs": [
    {
     "name": "stdout",
     "output_type": "stream",
     "text": [
      "0.0\n"
     ]
    }
   ],
   "source": [
    "data_median = np.median(covid_data[\"new_cases\"])\n",
    "print(data_median)"
   ]
  },
  {
   "cell_type": "markdown",
   "id": "4aff58e4",
   "metadata": {},
   "source": [
    "Giá trị thường gặp nhất"
   ]
  },
  {
   "cell_type": "code",
   "execution_count": 93,
   "id": "2d7c19ac",
   "metadata": {},
   "outputs": [
    {
     "name": "stdout",
     "output_type": "stream",
     "text": [
      "ModeResult(mode=np.float64(0.0), count=np.int64(316034))\n"
     ]
    }
   ],
   "source": [
    "data_mode = stats.mode(covid_data[\"new_cases\"])\n",
    "print(data_mode)"
   ]
  },
  {
   "cell_type": "markdown",
   "id": "0da53b7f",
   "metadata": {},
   "source": [
    "Phương sai "
   ]
  },
  {
   "cell_type": "code",
   "execution_count": 94,
   "id": "8b594ee8",
   "metadata": {},
   "outputs": [
    {
     "name": "stdout",
     "output_type": "stream",
     "text": [
      "13834902307.943613\n"
     ]
    }
   ],
   "source": [
    "data_variance = np.var(covid_data[\"new_cases\"])\n",
    "print(data_variance)"
   ]
  },
  {
   "cell_type": "markdown",
   "id": "cd0e03c4",
   "metadata": {},
   "source": [
    "Độ lệch chuẩn"
   ]
  },
  {
   "cell_type": "code",
   "execution_count": 95,
   "id": "837c717a",
   "metadata": {},
   "outputs": [
    {
     "name": "stdout",
     "output_type": "stream",
     "text": [
      "117621.86152218308\n"
     ]
    }
   ],
   "source": [
    "data_sd = np.std(covid_data[\"new_cases\"])\n",
    "print(data_sd)"
   ]
  },
  {
   "cell_type": "markdown",
   "id": "cd0322da",
   "metadata": {},
   "source": [
    "Giá trị lớn nhất, nhỏ nhất "
   ]
  },
  {
   "cell_type": "code",
   "execution_count": 96,
   "id": "e664bd62",
   "metadata": {},
   "outputs": [
    {
     "name": "stdout",
     "output_type": "stream",
     "text": [
      "8401906.0\n",
      "0.0\n"
     ]
    }
   ],
   "source": [
    "data_max = np.max(covid_data[\"new_cases\"])\n",
    "data_min = np.min(covid_data[\"new_cases\"])\n",
    "print(data_max)\n",
    "print(data_min)"
   ]
  },
  {
   "cell_type": "markdown",
   "id": "8a68cfe6",
   "metadata": {},
   "source": [
    "Lấy phần trăm thứ 60 của dữ liệu"
   ]
  },
  {
   "cell_type": "code",
   "execution_count": 97,
   "id": "df3d371a",
   "metadata": {},
   "outputs": [
    {
     "name": "stdout",
     "output_type": "stream",
     "text": [
      "0.0\n"
     ]
    }
   ],
   "source": [
    "data_percentile = np.percentile(covid_data[\"new_cases\"],60)\n",
    "print(data_percentile)"
   ]
  },
  {
   "cell_type": "markdown",
   "id": "58bc47d9",
   "metadata": {},
   "source": [
    " Lấy các phần tư của dữ liệu"
   ]
  },
  {
   "cell_type": "code",
   "execution_count": 98,
   "id": "41e7c57f",
   "metadata": {},
   "outputs": [
    {
     "name": "stdout",
     "output_type": "stream",
     "text": [
      "64.0\n"
     ]
    }
   ],
   "source": [
    "data_quartile = np.quantile(covid_data[\"new_cases\"],0.75)\n",
    "print(data_quartile)"
   ]
  },
  {
   "cell_type": "markdown",
   "id": "3062df98",
   "metadata": {},
   "source": [
    "Nhận IQR của dữ liệu"
   ]
  },
  {
   "cell_type": "code",
   "execution_count": 99,
   "id": "404ec06a",
   "metadata": {},
   "outputs": [
    {
     "name": "stdout",
     "output_type": "stream",
     "text": [
      "64.0\n"
     ]
    }
   ],
   "source": [
    "data_IQR = stats.iqr(covid_data[\"new_cases\"])\n",
    "print(data_IQR)"
   ]
  }
 ],
 "metadata": {
  "kernelspec": {
   "display_name": "base",
   "language": "python",
   "name": "python3"
  },
  "language_info": {
   "codemirror_mode": {
    "name": "ipython",
    "version": 3
   },
   "file_extension": ".py",
   "mimetype": "text/x-python",
   "name": "python",
   "nbconvert_exporter": "python",
   "pygments_lexer": "ipython3",
   "version": "3.13.5"
  }
 },
 "nbformat": 4,
 "nbformat_minor": 5
}
