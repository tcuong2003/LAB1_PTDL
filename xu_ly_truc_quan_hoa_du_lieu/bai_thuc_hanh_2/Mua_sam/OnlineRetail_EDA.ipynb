{
 "cells": [
  {
   "cell_type": "markdown",
   "id": "d85f1572",
   "metadata": {},
   "source": [
    "# 1. Chuẩn bị dữ liệu"
   ]
  },
  {
   "cell_type": "code",
   "execution_count": null,
   "id": "4f23aaa6",
   "metadata": {},
   "outputs": [
    {
     "ename": "SyntaxError",
     "evalue": "(unicode error) 'unicodeescape' codec can't decode bytes in position 17-18: truncated \\xXX escape (4109203803.py, line 4)",
     "output_type": "error",
     "traceback": [
      "\u001b[1;36m  Cell \u001b[1;32mIn[1], line 4\u001b[1;36m\u001b[0m\n\u001b[1;33m    data_path = Path(\"D:\\PTDL\\LAB1_PTDL\\xu_ly_truc_quan_hoa_du_lieu\\bai_thuc_hanh_2\\Mua_sam\\data\\Online Retail.xlsx\")\u001b[0m\n\u001b[1;37m                     ^\u001b[0m\n\u001b[1;31mSyntaxError\u001b[0m\u001b[1;31m:\u001b[0m (unicode error) 'unicodeescape' codec can't decode bytes in position 17-18: truncated \\xXX escape\n"
     ]
    }
   ],
   "source": [
    "import pandas as pd\n",
    "from pathlib import Path\n",
    "\n",
    "# Use a raw string for Windows paths to avoid unicodeescape errors\n",
    "data_path = Path(r'D:\\PTDL\\LAB1_PTDL\\xu_ly_truc_quan_hoa_du_lieu\\bai_thuc_hanh_2\\Mua_sam\\data\\Online Retail.xlsx')\n",
    "if not data_path.exists():\n",
    "    raise FileNotFoundError(f'File not found: {data_path} - check the path')\n",
    "\n",
    "data = pd.read_excel(data_path, nrows=50000)  # đọc 50.000 dòng đầu để tránh quá tải bộ nhớ\n",
    "\n",
    "print('Loaded', len(data), 'rows; columns:', list(data.columns))\n",
    "data.head()\n"
   ]
  },
  {
   "cell_type": "code",
   "execution_count": null,
   "id": "6e51e3e5",
   "metadata": {},
   "outputs": [],
   "source": []
  }
 ],
 "metadata": {
  "kernelspec": {
   "display_name": "base",
   "language": "python",
   "name": "python3"
  },
  "language_info": {
   "codemirror_mode": {
    "name": "ipython",
    "version": 3
   },
   "file_extension": ".py",
   "mimetype": "text/x-python",
   "name": "python",
   "nbconvert_exporter": "python",
   "pygments_lexer": "ipython3",
   "version": "3.13.5"
  }
 },
 "nbformat": 4,
 "nbformat_minor": 5
}
